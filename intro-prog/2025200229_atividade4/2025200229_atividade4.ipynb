{
 "cells": [
  {
   "cell_type": "markdown",
   "metadata": {},
   "source": [
    "1)"
   ]
  },
  {
   "cell_type": "code",
   "execution_count": null,
   "metadata": {},
   "outputs": [],
   "source": [
    "class Vector:\n",
    "    def __init__(self, dimension, entries=None):\n",
    "        if not isinstance(dimension, int) or dimension <= 0:\n",
    "            raise ValueError(\"Dimension must be a positive integer.\")\n",
    "        \n",
    "        self.dimension = dimension\n",
    "\n",
    "        if entries is None:\n",
    "            self.entries = tuple(0 for _ in range(dimension))\n",
    "        else:\n",
    "            if len(entries) != dimension:\n",
    "                raise ValueError(\"Number of entries does not match the dimension.\")\n",
    "            if not all(isinstance(e, (int, float)) for e in entries):\n",
    "                raise TypeError(\"All entries must be integers or floats.\")\n",
    "            self.entries = tuple(entries)\n"
   ]
  },
  {
   "cell_type": "markdown",
   "metadata": {},
   "source": [
    "2)"
   ]
  },
  {
   "cell_type": "code",
   "execution_count": null,
   "metadata": {},
   "outputs": [
    {
     "name": "stdout",
     "output_type": "stream",
     "text": [
      "3\n",
      "(1, 2, 3)\n"
     ]
    }
   ],
   "source": [
    "class Vector:\n",
    "    def __init__(self, dimension, entries=None):\n",
    "        if not isinstance(dimension, int) or dimension <= 0:\n",
    "            raise ValueError(\"Dimension must be a positive integer.\")\n",
    "        \n",
    "        self.dimension = dimension\n",
    "\n",
    "        if entries is None:\n",
    "            self.entries = tuple(0 for _ in range(dimension))\n",
    "        else:\n",
    "            if len(entries) != dimension:\n",
    "                raise ValueError(\"Number of entries does not match the dimension.\")\n",
    "            if not all(isinstance(e, (int, float)) for e in entries):\n",
    "                raise TypeError(\"All entries must be integers or floats.\")\n",
    "            self.entries = tuple(entries)\n",
    "\n",
    "    def get_dim(self):\n",
    "        return self.dimension\n",
    "\n",
    "    def get_entries(self):\n",
    "        return self.entries\n",
    "    \n",
    "\n",
    "v = Vector(3, [1, 2, 3])\n",
    "\n",
    "print(v.get_dim())\n",
    "print(v.get_entries())  "
   ]
  },
  {
   "cell_type": "markdown",
   "metadata": {},
   "source": [
    "3)"
   ]
  },
  {
   "cell_type": "code",
   "execution_count": null,
   "metadata": {},
   "outputs": [],
   "source": [
    "class Vector:\n",
    "    def __init__(self, dim, entries=None):\n",
    "        if not isinstance(dim, int) or dim <= 0:\n",
    "            raise ValueError(\"A dimensão deve ser um inteiro positivo.\")\n",
    "\n",
    "        if entries is None:\n",
    "            self.entries = tuple(0 for _ in range(dim))\n",
    "        else:\n",
    "            if not isinstance(entries, (list, tuple)):\n",
    "                raise TypeError(\"As entradas devem ser fornecidas em lista ou tupla.\")\n",
    "            if len(entries) != dim:\n",
    "                raise ValueError(\"A dimensão e o número de entradas não correspondem.\")\n",
    "            if not all(isinstance(x, (int, float)) for x in entries):\n",
    "                raise TypeError(\"Todas as entradas devem ser números.\")\n",
    "            self.entries = tuple(entries)\n",
    "\n",
    "        self.dim = dim\n",
    "\n",
    "    def get_dim(self):\n",
    "        return self.dim\n",
    "\n",
    "    def get_entries(self):\n",
    "        return self.entries\n",
    "\n",
    "    def __validate_comparison(self, other):\n",
    "        if not isinstance(other, Vector):\n",
    "            raise TypeError(\"Só é possível comparar um Vector com outro Vector.\")\n",
    "        if self.dim != other.dim:\n",
    "            raise ValueError(\"Não é possível comparar vetores de dimensões diferentes.\")\n",
    "\n",
    "    def __eq__(self, other):\n",
    "        self.__validate_comparison(other)\n",
    "        return self.entries == other.entries\n",
    "\n",
    "    def __lt__(self, other):\n",
    "        self.__validate_comparison(other)\n",
    "        return self.entries < other.entries\n",
    "\n",
    "    def __le__(self, other):\n",
    "        self.__validate_comparison(other)\n",
    "        return self.entries <= other.entries\n",
    "\n",
    "    def __gt__(self, other):\n",
    "        self.__validate_comparison(other)\n",
    "        return self.entries > other.entries\n",
    "\n",
    "    def __ge__(self, other):\n",
    "        self.__validate_comparison(other)\n",
    "        return self.entries >= other.entries"
   ]
  },
  {
   "cell_type": "markdown",
   "metadata": {},
   "source": [
    "4)"
   ]
  },
  {
   "cell_type": "code",
   "execution_count": null,
   "metadata": {},
   "outputs": [],
   "source": [
    "class Vector:\n",
    "    def __init__(self, dim, entries=None):\n",
    "        if not isinstance(dim, int) or dim <= 0:\n",
    "            raise ValueError(\"A dimensão deve ser um inteiro positivo.\")\n",
    "        if entries is None:\n",
    "            self.entries = tuple(0 for _ in range(dim))\n",
    "        else:\n",
    "            if not isinstance(entries, (list, tuple)):\n",
    "                raise TypeError(\"As entradas devem ser fornecidas em lista ou tupla.\")\n",
    "            if len(entries) != dim:\n",
    "                raise ValueError(\"A dimensão e o número de entradas não correspondem.\")\n",
    "            if not all(isinstance(x, (int, float)) for x in entries):\n",
    "                raise TypeError(\"Todas as entradas devem ser números.\")\n",
    "            self.entries = tuple(entries)\n",
    "        self.dim = dim\n",
    "\n",
    "    def get_dim(self):\n",
    "        return self.dim\n",
    "\n",
    "    def get_entries(self):\n",
    "        return self.entries\n",
    "\n",
    "    def __validate_operation(self, other):\n",
    "        if not isinstance(other, Vector):\n",
    "            raise TypeError(\"Operação só é válida entre dois vetores.\")\n",
    "        if self.dim != other.dim:\n",
    "            raise ValueError(\"Vetores devem ter a mesma dimensão.\")\n",
    "\n",
    "    def __add__(self, other):\n",
    "        self.__validate_operation(other)\n",
    "        entries = [a + b for a, b in zip(self.entries, other.entries)]\n",
    "        return Vector(self.dim, entries)\n",
    "\n",
    "    def __sub__(self, other):\n",
    "        self.__validate_operation(other)\n",
    "        entries = [a - b for a, b in zip(self.entries, other.entries)]\n",
    "        return Vector(self.dim, entries)"
   ]
  },
  {
   "cell_type": "markdown",
   "metadata": {},
   "source": [
    "5)"
   ]
  },
  {
   "cell_type": "code",
   "execution_count": null,
   "metadata": {},
   "outputs": [],
   "source": [
    "class Vector:\n",
    "    def __init__(self, dim, entries=None):\n",
    "        if not isinstance(dim, int) or dim <= 0:\n",
    "            raise ValueError(\"A dimensão deve ser um inteiro positivo.\")\n",
    "        if entries is None:\n",
    "            self.entries = tuple(0 for _ in range(dim))\n",
    "        else:\n",
    "            if not isinstance(entries, (list, tuple)):\n",
    "                raise TypeError(\"As entradas devem ser fornecidas em lista ou tupla.\")\n",
    "            if len(entries) != dim:\n",
    "                raise ValueError(\"A dimensão e o número de entradas não correspondem.\")\n",
    "            if not all(isinstance(x, (int, float)) for x in entries):\n",
    "                raise TypeError(\"Todas as entradas devem ser números.\")\n",
    "            self.entries = tuple(entries)\n",
    "        self.dim = dim\n",
    "\n",
    "    def get_dim(self):\n",
    "        return self.dim\n",
    "\n",
    "    def get_entries(self):\n",
    "        return self.entries\n",
    "\n",
    "    def dot(self, other):\n",
    "        if not isinstance(other, Vector):\n",
    "            raise TypeError(\"O produto interno deve ser feito entre dois vetores.\")\n",
    "        if self.dim != other.dim:\n",
    "            raise ValueError(\"Vetores devem ter a mesma dimensão para calcular o produto interno.\")\n",
    "\n",
    "        return sum(a * b for a, b in zip(self.entries, other.entries))"
   ]
  },
  {
   "cell_type": "markdown",
   "metadata": {},
   "source": [
    "6)"
   ]
  },
  {
   "cell_type": "code",
   "execution_count": null,
   "metadata": {},
   "outputs": [],
   "source": [
    "class Vector:\n",
    "    def __init__(self, dim, entries=None):\n",
    "        if not isinstance(dim, int) or dim <= 0:\n",
    "            raise ValueError(\"A dimensão deve ser um inteiro positivo.\")\n",
    "        if entries is None:\n",
    "            self.entries = tuple(0 for _ in range(dim))\n",
    "        else:\n",
    "            if not isinstance(entries, (list, tuple)):\n",
    "                raise TypeError(\"As entradas devem ser fornecidas em lista ou tupla.\")\n",
    "            if len(entries) != dim:\n",
    "                raise ValueError(\"A dimensão e o número de entradas não correspondem.\")\n",
    "            if not all(isinstance(x, (int, float)) for x in entries):\n",
    "                raise TypeError(\"Todas as entradas devem ser números.\")\n",
    "            self.entries = tuple(entries)\n",
    "        self.dim = dim\n",
    "\n",
    "    def get_dim(self):\n",
    "        return self.dim\n",
    "\n",
    "    def get_entries(self):\n",
    "        return self.entries\n",
    "\n",
    "    def __mul__(self, scalar):\n",
    "        if not isinstance(scalar, (int, float)):\n",
    "            raise TypeError(\"A multiplicação escalar requer um número inteiro ou float.\")\n",
    "        return Vector(self.dim, [x * scalar for x in self.entries])\n",
    "\n",
    "    def __rmul__(self, scalar):\n",
    "        return self.__mul__(scalar)\n",
    "\n",
    "# Exemplo de uso:\n",
    "v = Vector(3, [1, 2, 3])\n",
    "\n",
    "v2 = 2 * v\n",
    "print(v2.get_entries())  # Saída: (2, 4, 6)\n",
    "\n",
    "v3 = v * 3\n",
    "print(v3.get_entries())  # Saída: (3, 6, 9)"
   ]
  }
 ],
 "metadata": {
  "kernelspec": {
   "display_name": "Python 3",
   "language": "python",
   "name": "python3"
  },
  "language_info": {
   "codemirror_mode": {
    "name": "ipython",
    "version": 3
   },
   "file_extension": ".py",
   "mimetype": "text/x-python",
   "name": "python",
   "nbconvert_exporter": "python",
   "pygments_lexer": "ipython3",
   "version": "3.12.8"
  }
 },
 "nbformat": 4,
 "nbformat_minor": 2
}
