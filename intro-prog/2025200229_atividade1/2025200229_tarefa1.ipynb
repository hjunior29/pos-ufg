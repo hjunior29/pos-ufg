{
 "cells": [
  {
   "cell_type": "markdown",
   "metadata": {},
   "source": [
    "Questão 1. Aquecimento: Definindo Funções Simples"
   ]
  },
  {
   "cell_type": "code",
   "execution_count": 4,
   "metadata": {},
   "outputs": [
    {
     "name": "stdout",
     "output_type": "stream",
     "text": [
      "bird_goat_bird\n",
      "bird___bird\n"
     ]
    }
   ],
   "source": [
    "def bird_pad(s):\n",
    "    print(f\"bird_{s}_bird\")\n",
    "\n",
    "bird_pad(\"goat\")\n",
    "bird_pad(\"_\")"
   ]
  },
  {
   "cell_type": "code",
   "execution_count": 10,
   "metadata": {},
   "outputs": [
    {
     "name": "stdout",
     "output_type": "stream",
     "text": [
      "cat\n",
      "cat\n",
      "cat\n"
     ]
    }
   ],
   "source": [
    "def print_n(s: str, n: int):\n",
    "    if n <= 0:\n",
    "        return\n",
    "    for i in range(n):\n",
    "        print(s)\n",
    "\n",
    "print_n(\"cat\", 3)"
   ]
  },
  {
   "cell_type": "markdown",
   "metadata": {},
   "source": [
    "Questão 2. Algoritmo de Euclides"
   ]
  },
  {
   "cell_type": "code",
   "execution_count": null,
   "metadata": {},
   "outputs": [
    {
     "name": "stdout",
     "output_type": "stream",
     "text": [
      "300\n",
      "60\n",
      "1\n",
      "1\n",
      "300\n",
      "-60\n",
      "-1\n",
      "1\n"
     ]
    }
   ],
   "source": [
    "def gcd(m, n):\n",
    "    while n != 0:\n",
    "        m, n = n, m % n\n",
    "    return m\n",
    "\n",
    "print(gcd(1200, 300))  \n",
    "print(gcd(5040, 60))   \n",
    "print(gcd(29, 31))     \n",
    "print(gcd(2023, 2024)) \n",
    "\n",
    "print(gcd(-1200, 300))  \n",
    "print(gcd(5040, -60))   \n",
    "print(gcd(-29, -31))    \n",
    "print(gcd(-2023, 2024)) "
   ]
  },
  {
   "cell_type": "markdown",
   "metadata": {},
   "source": [
    "Quando um ou ambos os argumentos são negativos, o resultado pode ser negativo ou positivo, dependendo da entrada. O algoritmo continua funcionando, mas um resultado negativo pode ser inesperado."
   ]
  },
  {
   "cell_type": "markdown",
   "metadata": {},
   "source": [
    "Questão 3. Aproximando o Número de Euler"
   ]
  },
  {
   "cell_type": "code",
   "execution_count": 31,
   "metadata": {},
   "outputs": [],
   "source": [
    "import math"
   ]
  },
  {
   "cell_type": "code",
   "execution_count": 34,
   "metadata": {},
   "outputs": [
    {
     "name": "stdout",
     "output_type": "stream",
     "text": [
      "2.0\n"
     ]
    }
   ],
   "source": [
    "# 1) Função euler_limit(n)\n",
    "def euler_limit(n: int) -> float:\n",
    "    return (1 + 1/n)**n\n",
    "\n",
    "print(euler_limit(1))"
   ]
  },
  {
   "cell_type": "code",
   "execution_count": 36,
   "metadata": {},
   "outputs": [
    {
     "name": "stdout",
     "output_type": "stream",
     "text": [
      "120\n"
     ]
    }
   ],
   "source": [
    "# 2) Função factorial(k)\n",
    "def factorial(k: int) -> int:\n",
    "    if k <= 1:\n",
    "        return 1\n",
    "    return k * factorial(k - 1)\n",
    "\n",
    "print(factorial(5))"
   ]
  },
  {
   "cell_type": "code",
   "execution_count": null,
   "metadata": {},
   "outputs": [
    {
     "name": "stdout",
     "output_type": "stream",
     "text": [
      "2.708333333333333\n"
     ]
    }
   ],
   "source": [
    "# 3) Função euler_infinite_sum(n)\n",
    "def euler_infinite_sum(n: int) -> float:\n",
    "    total = 0.0\n",
    "    for k in range(n):\n",
    "        total += 1 / factorial(k)\n",
    "    return total\n",
    "\n",
    "print(euler_infinite_sum(5))"
   ]
  },
  {
   "cell_type": "code",
   "execution_count": null,
   "metadata": {},
   "outputs": [
    {
     "name": "stdout",
     "output_type": "stream",
     "text": [
      "5\n"
     ]
    }
   ],
   "source": [
    "# 4) Função euler_approx(t)\n",
    "def euler_approx(t: float) -> int:\n",
    "    soma = 0.0\n",
    "    k = 0\n",
    "    while True:\n",
    "        soma += 1 / factorial(k)\n",
    "        if abs(soma - math.e) < t:\n",
    "            return k + 1\n",
    "        k += 1\n",
    "\n",
    "print(euler_approx(0.01))"
   ]
  },
  {
   "cell_type": "code",
   "execution_count": null,
   "metadata": {},
   "outputs": [
    {
     "name": "stdout",
     "output_type": "stream",
     "text": [
      "Tabela de aproximações usando (1 + 1/x)^x:\n",
      "x = 1 -> 2.0\n",
      "x = 2 -> 2.25\n",
      "x = 3 -> 2.37037037037037\n",
      "x = 4 -> 2.44140625\n",
      "x = 5 -> 2.4883199999999994\n",
      "x = 6 -> 2.5216263717421135\n",
      "x = 7 -> 2.546499697040712\n",
      "x = 8 -> 2.565784513950348\n",
      "x = 9 -> 2.5811747917131984\n",
      "x = 10 -> 2.5937424601000023\n",
      "\n",
      "Tabela de aproximações usando a série 1/k!:\n",
      "1 termo(s) -> 1.0\n",
      "2 termo(s) -> 2.0\n",
      "3 termo(s) -> 2.5\n",
      "4 termo(s) -> 2.6666666666666665\n",
      "5 termo(s) -> 2.708333333333333\n",
      "6 termo(s) -> 2.7166666666666663\n",
      "7 termo(s) -> 2.7180555555555554\n",
      "8 termo(s) -> 2.7182539682539684\n",
      "9 termo(s) -> 2.71827876984127\n",
      "10 termo(s) -> 2.7182815255731922\n",
      "\n"
     ]
    }
   ],
   "source": [
    "# 5) Funções para imprimir as tabelas de aproximação\n",
    "\n",
    "# a) print_euler_sum_table(n):\n",
    "def print_euler_sum_table(n: int) -> None:\n",
    "    print(\"Tabela de aproximações usando a série 1/k!:\")\n",
    "    for i in range(1, n + 1):\n",
    "        aprox = euler_infinite_sum(i)\n",
    "        print(f\"{i} termo(s) -> {aprox}\")\n",
    "    print()\n",
    "\n",
    "# b) print_euler_lim_table(n):\n",
    "def print_euler_lim_table(n: int) -> None:\n",
    "    print(\"Tabela de aproximações usando (1 + 1/x)^x:\")\n",
    "    for i in range(1, n + 1):\n",
    "        aprox = euler_limit(i)\n",
    "        print(f\"x = {i} -> {aprox}\")\n",
    "    print()\n",
    "\n",
    "print_euler_lim_table(10)\n",
    "print_euler_sum_table(10)\n"
   ]
  },
  {
   "cell_type": "markdown",
   "metadata": {},
   "source": [
    "\n",
    "A soma infinita de 1/k! tende a convergir mais rápido para o valor real de e do que (1 + 1/n)^n, especialmente para n menores."
   ]
  },
  {
   "cell_type": "markdown",
   "metadata": {},
   "source": [
    "Questão 4. Testando Propriedades de um Inteiro"
   ]
  },
  {
   "cell_type": "code",
   "execution_count": 47,
   "metadata": {},
   "outputs": [
    {
     "name": "stdout",
     "output_type": "stream",
     "text": [
      "True\n",
      "True\n"
     ]
    }
   ],
   "source": [
    "def is_power_of_2(n: int) -> bool:\n",
    "    if n == 1:\n",
    "        return True\n",
    "    if n <= 0 or n % 2 != 0:\n",
    "        return False\n",
    "    return is_power_of_2(n // 2)\n",
    "\n",
    "def is_power(b: int, n: int) -> bool:\n",
    "    if n == 1:\n",
    "        return True\n",
    "    if n <= 0 or n % b != 0:\n",
    "        return False\n",
    "    return is_power(b, n // b)\n",
    "\n",
    "print(is_power_of_2(8))\n",
    "print(is_power(3, 27))"
   ]
  }
 ],
 "metadata": {
  "kernelspec": {
   "display_name": "Python 3",
   "language": "python",
   "name": "python3"
  },
  "language_info": {
   "codemirror_mode": {
    "name": "ipython",
    "version": 3
   },
   "file_extension": ".py",
   "mimetype": "text/x-python",
   "name": "python",
   "nbconvert_exporter": "python",
   "pygments_lexer": "ipython3",
   "version": "3.12.8"
  }
 },
 "nbformat": 4,
 "nbformat_minor": 2
}
