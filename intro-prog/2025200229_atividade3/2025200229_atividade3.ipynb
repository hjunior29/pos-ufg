{
 "cells": [
  {
   "cell_type": "markdown",
   "metadata": {},
   "source": [
    "Questão 1. Noções básicas de arquivos: leitura e escrita"
   ]
  },
  {
   "cell_type": "code",
   "execution_count": null,
   "metadata": {},
   "outputs": [],
   "source": [
    "def reverse_lines(infile, outfile):\n",
    "    with open(infile, 'r') as fin, open(outfile, 'w') as fout:\n",
    "        for line in fin:\n",
    "            line = line.rstrip('\\n')\n",
    "            reversed_line = line[::-1]\n",
    "            fout.write(reversed_line + '\\n')\n",
    "\n",
    "input_file = 'input.txt'\n",
    "output_file = 'output.txt'\n",
    "reverse_lines(input_file, output_file)"
   ]
  },
  {
   "cell_type": "markdown",
   "metadata": {},
   "source": [
    "A Opção 1 é preferível quando você precisa manipular o arquivo como um todo (por exemplo, trocar a ordem das linhas) e o arquivo não é muito grande. Já a Opção 2 é preferível quando o arquivo pode ser muito extenso ou quando não há necessidade de processar várias linhas ao mesmo tempo."
   ]
  },
  {
   "cell_type": "code",
   "execution_count": 5,
   "metadata": {},
   "outputs": [
    {
     "name": "stdout",
     "output_type": "stream",
     "text": [
      "Arquivo 'teste.txt' gerado com 5 linhas de 10 caracteres cada.\n"
     ]
    }
   ],
   "source": [
    "import random\n",
    "import string\n",
    "\n",
    "def generate_test(filename, nlines, nchars):\n",
    "    if nlines < 0 or nchars < 0:\n",
    "        print(\"Erro: nlines e nchars devem ser inteiros não negativos.\")\n",
    "        return\n",
    "    \n",
    "    with open(filename, 'w') as f:\n",
    "        for _ in range(nlines):\n",
    "            line = ''.join(random.choice(string.ascii_lowercase) for _ in range(nchars))\n",
    "            f.write(line + '\\n')\n",
    "\n",
    "generate_test(\"teste.txt\", 5, 10)\n",
    "print(\"Arquivo 'teste.txt' gerado com 5 linhas de 10 caracteres cada.\")\n"
   ]
  },
  {
   "cell_type": "code",
   "execution_count": 6,
   "metadata": {},
   "outputs": [
    {
     "name": "stdout",
     "output_type": "stream",
     "text": [
      "0.006590127944946289 0.0036869049072265625\n"
     ]
    }
   ],
   "source": [
    "import time\n",
    "import random\n",
    "import string\n",
    "\n",
    "def generate_test(filename, nlines, nchars):\n",
    "    if nlines < 0 or nchars < 0:\n",
    "        print(\"Erro\")\n",
    "        return\n",
    "    with open(filename, 'w') as f:\n",
    "        for _ in range(nlines):\n",
    "            line = ''.join(random.choice(string.ascii_lowercase) for _ in range(nchars))\n",
    "            f.write(line + '\\n')\n",
    "\n",
    "def revlines_storage(infile, outfile):\n",
    "    with open(infile, 'r') as fin:\n",
    "        lines = fin.readlines()\n",
    "    with open(outfile, 'w') as fout:\n",
    "        for line in lines:\n",
    "            fout.write(line.rstrip('\\n')[::-1] + '\\n')\n",
    "\n",
    "def revlines_direct(infile, outfile):\n",
    "    with open(infile, 'r') as fin, open(outfile, 'w') as fout:\n",
    "        for line in fin:\n",
    "            fout.write(line.rstrip('\\n')[::-1] + '\\n')\n",
    "\n",
    "def time_trial(infile, nlines, nchars):\n",
    "    generate_test(infile, nlines, nchars)\n",
    "    start = time.time()\n",
    "    revlines_storage(infile, 'storage_output.txt')\n",
    "    t1 = time.time() - start\n",
    "    start = time.time()\n",
    "    revlines_direct(infile, 'direct_output.txt')\n",
    "    t2 = time.time() - start\n",
    "    return (t1, t2)\n",
    "\n",
    "t1, t2 = time_trial('teste.txt', 10000, 100)\n",
    "print(t1, t2)\n"
   ]
  },
  {
   "cell_type": "markdown",
   "metadata": {},
   "source": [
    "Uma possível explicação para a diferença de desempenho entre revlines_storage e revlines_direct está no uso de memória. Na função revlines_storage, todas as linhas são lidas e armazenadas em uma lista antes de serem escritas no arquivo de saída, o que pode exigir mais memória para arquivos grandes e introduzir overhead no gerenciamento dessa lista. Já em revlines_direct, cada linha é processada e escrita imediatamente, dispensando a necessidade de manter todas as linhas em memória ao mesmo tempo, o que geralmente torna essa abordagem mais rápida (ou mais escalável) quando o arquivo é grande."
   ]
  },
  {
   "cell_type": "code",
   "execution_count": 2,
   "metadata": {},
   "outputs": [
    {
     "name": "stdout",
     "output_type": "stream",
     "text": [
      "('half', 'a') 3\n",
      "('a', 'league') 3\n",
      "('league', 'half') 1\n",
      "('league', 'onward') 1\n",
      "('all', 'in') 1\n",
      "('in', 'the') 1\n",
      "('the', 'valley') 1\n",
      "('valley', 'of') 1\n",
      "('of', 'death') 1\n",
      "('rode', 'the') 1\n",
      "('the', 'six') 1\n",
      "('six', 'hundred') 1\n"
     ]
    }
   ],
   "source": [
    "import string\n",
    "\n",
    "def count_bigrams(infile, bigrams):\n",
    "    try:\n",
    "        with open(infile, 'r') as f:\n",
    "            for line in f:\n",
    "                line = line.lower()\n",
    "                for c in string.punctuation:\n",
    "                    line = line.replace(c, \"\")\n",
    "                words = line.split()\n",
    "                for i in range(len(words) - 1):\n",
    "                    pair = (words[i], words[i + 1])\n",
    "                    bigrams[pair] = bigrams.get(pair, 0) + 1\n",
    "    except OSError:\n",
    "        print(\"Erro ao abrir o arquivo:\", infile)\n",
    "\n",
    "bigrams = {}\n",
    "count_bigrams(\"poema.txt\", bigrams)\n",
    "for pair, count in bigrams.items():\n",
    "    print(pair, count)\n"
   ]
  },
  {
   "cell_type": "code",
   "execution_count": 4,
   "metadata": {},
   "outputs": [
    {
     "name": "stdout",
     "output_type": "stream",
     "text": [
      "Vector(dimension=3, values=[0, 0, 0])\n",
      "Vector(dimension=3, values=[1, 2, 3])\n",
      "Vector(dimension=2, values=[4.5, -2.3])\n"
     ]
    }
   ],
   "source": [
    "class Vector:\n",
    "    def __init__(self, dimension, values=None):\n",
    "        if not isinstance(dimension, int) or dimension <= 0:\n",
    "            raise ValueError(\"A dimensão deve ser um inteiro positivo.\")\n",
    "\n",
    "        if values is None:\n",
    "            self.values = [0] * dimension\n",
    "        else:\n",
    "            if not isinstance(values, (list, tuple)):\n",
    "                raise TypeError(\"Os valores devem ser uma lista ou tupla de números.\")\n",
    "\n",
    "            if len(values) != dimension:\n",
    "                raise ValueError(\"A dimensão e o número de entradas fornecidas devem ser iguais.\")\n",
    "\n",
    "            if not all(isinstance(x, (int, float)) for x in values):\n",
    "                raise TypeError(\"Todos os elementos da lista devem ser inteiros ou floats.\")\n",
    "\n",
    "            self.values = list(values)\n",
    "\n",
    "        self.dimension = dimension\n",
    "\n",
    "    def __repr__(self):\n",
    "        return f\"Vector(dimension={self.dimension}, values={self.values})\"\n",
    "    \n",
    "v1 = Vector(3)  # Cria um vetor [0, 0, 0]\n",
    "print(v1)\n",
    "\n",
    "v2 = Vector(3, [1, 2, 3])  # Cria um vetor [1, 2, 3]\n",
    "print(v2)\n",
    "\n",
    "v3 = Vector(2, (4.5, -2.3))  # Cria um vetor [4.5, -2.3]\n",
    "print(v3)\n",
    "\n",
    "# Exemplo de erro:\n",
    "# v4 = Vector(-1)  # ValueError: A dimensão deve ser um inteiro positivo.\n",
    "# v5 = Vector(3, [1, 2])  # ValueError: A dimensão e o número de entradas fornecidas devem ser iguais.\n",
    "# v6 = Vector(3, [1, \"a\", 3])  # TypeError: Todos os elementos da lista devem ser inteiros ou floats."
   ]
  }
 ],
 "metadata": {
  "kernelspec": {
   "display_name": "Python 3",
   "language": "python",
   "name": "python3"
  },
  "language_info": {
   "codemirror_mode": {
    "name": "ipython",
    "version": 3
   },
   "file_extension": ".py",
   "mimetype": "text/x-python",
   "name": "python",
   "nbconvert_exporter": "python",
   "pygments_lexer": "ipython3",
   "version": "3.12.8"
  }
 },
 "nbformat": 4,
 "nbformat_minor": 2
}
