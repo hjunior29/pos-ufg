{
 "cells": [
  {
   "cell_type": "markdown",
   "metadata": {},
   "source": [
    "Questão 1. Diversão com Strings"
   ]
  },
  {
   "cell_type": "code",
   "execution_count": null,
   "metadata": {},
   "outputs": [
    {
     "name": "stdout",
     "output_type": "stream",
     "text": [
      "True\n",
      "True\n",
      "True\n",
      "True\n",
      "False\n",
      "ct?\n",
      "gT!\n"
     ]
    }
   ],
   "source": [
    "def is_palindrome(s: str) -> bool:\n",
    "    filtrada = ''.join(ch.lower() for ch in s if ch.isalpha())\n",
    "    return filtrada == filtrada[::-1]\n",
    "\n",
    "\n",
    "def is_abecedarian(s: str) -> bool:\n",
    "    filtrada = ''.join(ch.lower() for ch in s if ch.isalpha())\n",
    "    for i in range(len(filtrada) - 1):\n",
    "        if filtrada[i] > filtrada[i + 1]:\n",
    "            return False\n",
    "    return True\n",
    "\n",
    "\n",
    "def remove_vowels(s: str) -> str:\n",
    "    vogais = set(\"aeiouAEIOU\")\n",
    "    resultado = []\n",
    "    for ch in s:\n",
    "        if ch not in vogais:\n",
    "            resultado.append(ch)\n",
    "    return ''.join(resultado)\n",
    "\n",
    "\n",
    "print(is_palindrome(\"tacocat\"))\n",
    "print(is_palindrome(\"T A C O cat\"))\n",
    "print(is_palindrome(\"Was it a car or a cat I saw?\"))\n",
    "\n",
    "print(is_abecedarian(\"adder\"))\n",
    "print(is_abecedarian(\"dog\"))\n",
    "\n",
    "print(remove_vowels(\"cat?\"))\n",
    "print(remove_vowels(\"goAT!\"))"
   ]
  },
  {
   "cell_type": "markdown",
   "metadata": {},
   "source": [
    "Questão 2. Diversão com Listas"
   ]
  },
  {
   "cell_type": "code",
   "execution_count": null,
   "metadata": {},
   "outputs": [
    {
     "name": "stdout",
     "output_type": "stream",
     "text": [
      "[3, 2, 1]\n",
      "Erro: A entrada não é uma lista.\n",
      "None\n",
      "True\n",
      "False\n",
      "True\n",
      "False\n"
     ]
    }
   ],
   "source": [
    "def list_reverse(lst):\n",
    "    if not isinstance(lst, list):\n",
    "        print(\"Erro: A entrada não é uma lista.\")\n",
    "        return None\n",
    "    return lst[::-1]\n",
    "\n",
    "\n",
    "def is_sorted(seq):\n",
    "    for i in range(len(seq) - 1):\n",
    "        if seq[i] > seq[i + 1]:\n",
    "            return False\n",
    "    return True\n",
    "\n",
    "\n",
    "def binary_search(sorted_list, target):\n",
    "    left = 0\n",
    "    right = len(sorted_list) - 1\n",
    "    \n",
    "    while left <= right:\n",
    "        mid = (left + right) // 2\n",
    "        if sorted_list[mid] == target:\n",
    "            return True\n",
    "        elif sorted_list[mid] < target:\n",
    "            left = mid + 1\n",
    "        else:\n",
    "            right = mid - 1\n",
    "    return False\n",
    "\n",
    "\n",
    "print(list_reverse([1, 2, 3]))\n",
    "print(list_reverse(\"não é lista\"))\n",
    "\n",
    "print(is_sorted([1, 2, 2, 3]))\n",
    "print(is_sorted([3, 2, 1]))\n",
    "\n",
    "lista_ordenada = [1, 3, 5, 7, 9]\n",
    "print(binary_search(lista_ordenada, 5))\n",
    "print(binary_search(lista_ordenada, 2))"
   ]
  },
  {
   "cell_type": "markdown",
   "metadata": {},
   "source": [
    "Questão 3. Mais diversão com Strings"
   ]
  },
  {
   "cell_type": "code",
   "execution_count": 5,
   "metadata": {},
   "outputs": [
    {
     "name": "stdout",
     "output_type": "stream",
     "text": [
      "{'g': 2, 'o': 2, 'l': 1, 'e': 1}\n",
      "{'go': 1, 'oo': 1, 'og': 1, 'gl': 1, 'le': 1}\n"
     ]
    }
   ],
   "source": [
    "def char_hist(s):\n",
    "    s = s.lower()\n",
    "    hist = {}\n",
    "    for ch in s:\n",
    "        hist[ch] = hist.get(ch, 0) + 1\n",
    "    return hist\n",
    "\n",
    "def bigram_hist(s):\n",
    "    s = s.lower()\n",
    "    hist = {}\n",
    "    for i in range(len(s) - 1):\n",
    "        b = s[i:i+2]\n",
    "        hist[b] = hist.get(b, 0) + 1\n",
    "    return hist\n",
    "\n",
    "texto = \"Google\"\n",
    "print(char_hist(texto))\n",
    "print(bigram_hist(texto))"
   ]
  },
  {
   "cell_type": "markdown",
   "metadata": {},
   "source": [
    "Questão 4. Tuplas como Vetores"
   ]
  },
  {
   "cell_type": "code",
   "execution_count": null,
   "metadata": {},
   "outputs": [
    {
     "name": "stdout",
     "output_type": "stream",
     "text": [
      "(2, 4, 6)\n",
      "32\n",
      "True\n",
      "(50, 122)\n"
     ]
    }
   ],
   "source": [
    "def vec_scalar_mult(v, s):\n",
    "    if not isinstance(v, tuple):\n",
    "        raise TypeError(\"First argument must be a tuple\")\n",
    "    if not (isinstance(s, int) or isinstance(s, float)):\n",
    "        raise TypeError(\"Second argument must be a number\")\n",
    "    return tuple(x*s for x in v)\n",
    "\n",
    "def vec_inner_product(v1, v2):\n",
    "    if not isinstance(v1, tuple) or not isinstance(v2, tuple):\n",
    "        raise TypeError(\"Arguments must be tuples\")\n",
    "    if len(v1) != len(v2):\n",
    "        raise ValueError(\"Tuples must have the same length\")\n",
    "    return sum(a*b for a, b in zip(v1, v2))\n",
    "\n",
    "def check_valid_mx(m):\n",
    "    if not isinstance(m, tuple) or len(m) == 0:\n",
    "        return False\n",
    "    if not all(isinstance(row, tuple) for row in m):\n",
    "        return False\n",
    "    n = len(m[0])\n",
    "    return all(len(row) == n for row in m)\n",
    "\n",
    "def mx_vec_mult(m, v):\n",
    "    if not check_valid_mx(m):\n",
    "        raise ValueError(\"Invalid matrix\")\n",
    "    if not isinstance(v, tuple):\n",
    "        raise TypeError(\"Vector must be a tuple\")\n",
    "    if len(m[0]) != len(v):\n",
    "        raise ValueError(\"Matrix and vector dimensions do not match\")\n",
    "    return tuple(sum(row[i]*v[i] for i in range(len(v))) for row in m)\n",
    "\n",
    "v = (1, 2, 3)\n",
    "s = 2\n",
    "print(vec_scalar_mult(v, s))\n",
    "\n",
    "v1 = (1, 2, 3)\n",
    "v2 = (4, 5, 6)\n",
    "print(vec_inner_product(v1, v2))\n",
    "\n",
    "m1 = ((1, 2), (3, 4))\n",
    "print(check_valid_mx(m1))\n",
    "\n",
    "m2 = ((1, 2, 3),(4, 5, 6))\n",
    "v3 = (7, 8, 9)\n",
    "print(mx_vec_mult(m2, v3))"
   ]
  },
  {
   "cell_type": "markdown",
   "metadata": {},
   "source": [
    "Questão 5. Mais diversão com Vetores"
   ]
  },
  {
   "cell_type": "code",
   "execution_count": 8,
   "metadata": {},
   "outputs": [
    {
     "name": "stdout",
     "output_type": "stream",
     "text": [
      "True\n",
      "True\n",
      "False\n",
      "15.75\n"
     ]
    }
   ],
   "source": [
    "def is_valid_sparse_vector(sv):\n",
    "    if not isinstance(sv, dict):\n",
    "        return False\n",
    "    for k, v in sv.items():\n",
    "        if not (isinstance(k, int) and k >= 0):\n",
    "            return False\n",
    "        if not (isinstance(v, int) or isinstance(v, float)):\n",
    "            return False\n",
    "    return True\n",
    "\n",
    "def sparse_inner_product(sv1, sv2):\n",
    "    if not is_valid_sparse_vector(sv1) or not is_valid_sparse_vector(sv2):\n",
    "        raise ValueError(\"Invalid sparse vector(s)\")\n",
    "    return sum(sv1[k] * sv2[k] for k in sv1 if k in sv2)\n",
    "\n",
    "sv1 = {0: 1, 2: 3, 5: 2.5}\n",
    "sv2 = {2: 4, 3: 1, 5: 1.5}\n",
    "\n",
    "print(is_valid_sparse_vector(sv1))\n",
    "print(is_valid_sparse_vector(sv2))\n",
    "\n",
    "sv3 = {-1: 10}\n",
    "print(is_valid_sparse_vector(sv3))\n",
    "\n",
    "print(sparse_inner_product(sv1, sv2))"
   ]
  }
 ],
 "metadata": {
  "kernelspec": {
   "display_name": "Python 3",
   "language": "python",
   "name": "python3"
  },
  "language_info": {
   "codemirror_mode": {
    "name": "ipython",
    "version": 3
   },
   "file_extension": ".py",
   "mimetype": "text/x-python",
   "name": "python",
   "nbconvert_exporter": "python",
   "pygments_lexer": "ipython3",
   "version": "3.12.8"
  }
 },
 "nbformat": 4,
 "nbformat_minor": 2
}
